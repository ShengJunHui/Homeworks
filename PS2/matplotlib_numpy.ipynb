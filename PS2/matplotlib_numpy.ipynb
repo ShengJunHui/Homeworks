{
 "cells": [
  {
   "cell_type": "markdown",
   "metadata": {
    "deletable": true,
    "editable": true
   },
   "source": [
    "# Homework Assignment 2: MatplotLib and NumPy\n",
    "\n",
    "In this excersise we will review in depth the numpy and matplotlib packages. You should feel free to use these packages (plus any related pylab packages), but no other custom functions.\n",
    "\n",
    "Homework Guidelines:\n",
    "\n",
    "1) Document your code! Only part of your score on the homework will be if you get the \"right\" answer. In order for us to understand what you've written, you need to have clearly written code. Documenting your code with comments (# sign) and spacing out your code (but not too much) makes it easier to read. You should also make use of the markdown feature of ipython notebooks for longer explanations or to imbed pictures/formulas. \n",
    "\n",
    "2) You may google around for tools for solving the homework problems (StackExchange will often pop up!) but DO NOT google the exact problem statement or copy blocks of code from elsewhere.\n",
    "\n",
    "3) You can work in small groups to complete assignments and share code within the small group. Please specify who you worked with if your submitted solutions are similar/identical.\n",
    "\n",
    "4) Various python packages have built in routines for common programming tasks. If you want to use an external (i.e. import X) package which isn't imported in the problem statement please ask the instructor first.\n",
    "\n",
    "5) Some problem statements might be vague or unspecific (like \"Explore the relationship between X and Y\"), just like real research questions! When in doubt it would be useful to provide plots and your observations. Show what you did graphically whenever possible.\n",
    "\n",
    "6) Run all cells before you commit!\n",
    "\n",
    "## Problem 1) Plot Layout Reproduction (10 Points)\n",
    "Like an artist reproducing the works of the masters, it is a useful excersize to try and reproduce plots of others. Below are three plots which you are tasked to reproduce using matpotlib. Do not worry about colorschemes, font sizes, etc. most important is that it is pretty in the end.\n"
   ]
  },
  {
   "cell_type": "markdown",
   "metadata": {
    "deletable": true,
    "editable": true
   },
   "source": [
    "\n",
    "\n",
    "### Thermal SZ Powerspectrum\n",
    "\n",
    "![tSZ](./matplotlib/tSZ.png)\n"
   ]
  },
  {
   "cell_type": "code",
   "execution_count": 7,
   "metadata": {
    "collapsed": false,
    "deletable": true,
    "editable": true
   },
   "outputs": [],
   "source": [
    "import numpy as np\n",
    "\n",
    "n_temp = 7.45\n",
    "l = np.load(\"./matplotlib/l.npy\")\n",
    "halo1 = np.load(\"./matplotlib/1halo.npy\")\n",
    "halo2 = np.load(\"./matplotlib/2halo.npy\")\n",
    "halot = np.load(\"./matplotlib/total.npy\")\n",
    "terr = np.load(\"./matplotlib/terr.npy\")\n",
    "data = np.load(\"./matplotlib/data.npy\")"
   ]
  },
  {
   "cell_type": "code",
   "execution_count": 9,
   "metadata": {
    "collapsed": false,
    "deletable": true,
    "editable": true
   },
   "outputs": [],
   "source": [
    "# Might find this helpful for calculating residual! :)\n",
    "\n",
    "from scipy import interpolate\n",
    "best_fit = scipy.interpolate.interp1d(l,halot/n_temp)\n",
    "best_fit_d = [best_fit(i) for i in data[:,0]]\n",
    "ratio = np.array([(data[i,1])-best_fit_d[i] for i,_ in enumerate(best_fit_d)])\n"
   ]
  },
  {
   "cell_type": "code",
   "execution_count": 21,
   "metadata": {
    "collapsed": false,
    "deletable": true,
    "editable": true
   },
   "outputs": [
    {
     "name": "stdout",
     "output_type": "stream",
     "text": [
      "Populating the interactive namespace from numpy and matplotlib\n"
     ]
    },
    {
     "name": "stderr",
     "output_type": "stream",
     "text": [
      "/Users/bhorowitz/Library/Python/3.7/lib/python/site-packages/IPython/core/magics/pylab.py:160: UserWarning: pylab import has clobbered these variables: ['sample']\n",
      "`%matplotlib` prevents importing * from pylab and numpy\n",
      "  \"\\n`%matplotlib` prevents importing * from pylab and numpy\"\n"
     ]
    },
    {
     "data": {
      "text/plain": [
       "[<matplotlib.lines.Line2D at 0x11e9c7f98>]"
      ]
     },
     "execution_count": 21,
     "metadata": {},
     "output_type": "execute_result"
    },
    {
     "data": {
      "image/png": "[encoded data removed]",
      "text/plain": [
       "<Figure size 432x288 with 1 Axes>"
      ]
     },
     "metadata": {
      "needs_background": "light"
     },
     "output_type": "display_data"
    }
   ],
   "source": [
    "# Short example to help understand the things plotted\n",
    "\n",
    "%pylab inline\n",
    "plt.errorbar(data[1:,0], data[1:,1]*n_temp, color = \"red\", yerr=np.sqrt(data[1:,2]**2+data[1:,3]**2+terr[1:]**2)*n_temp, fmt='.')\n",
    "plt.errorbar(data[1:,0], data[1:,1]*n_temp, color = \"black\", yerr=np.sqrt(data[1:,2]**2+data[1:,3]**2)*n_temp, fmt='.')\n",
    "plt.ylim((0.01,20))\n",
    "pylab.loglog(l,halot)\n"
   ]
  },
  {
   "cell_type": "markdown",
   "metadata": {
    "deletable": true,
    "editable": true
   },
   "source": [
    "## Problem 2) Hubble Law Activity (15 Points)\n",
    "\n",
    "Erwin Hubble famously used distances and velocities (inferred from the redshift) to discover that the universe was expanding. You can find his original paper here:http://apod.nasa.gov/diamond_jubilee/d_1996/hub_1929.html\n",
    "\n",
    "Lets look at use data to repeat his analysis!"
   ]
  },
  {
   "cell_type": "code",
   "execution_count": 55,
   "metadata": {
    "collapsed": true,
    "deletable": true,
    "editable": true
   },
   "outputs": [],
   "source": [
    "#Data format is alsways important to remember! Here it is [Galaxy ID Number , velocity (km./sec), distance away (megaparsecs)]\n",
    "hubble_data = np.array([[  2.78000000e+02,   6.50000000e+02,   1.52000000e+00],\n",
    "       [  5.84000000e+02,   1.80000000e+03,   3.45000000e+00],\n",
    "       [  9.36000000e+02,   1.30000000e+03,   2.37000000e+00],\n",
    "       [  1.02300000e+03,   3.00000000e+02,   6.20000000e-01],\n",
    "       [  1.70000000e+03,   8.00000000e+02,   1.16000000e+00],\n",
    "       [  2.68100000e+03,   7.00000000e+02,   1.42000000e+00],\n",
    "       [  2.68300000e+03,   4.00000000e+02,   6.70000000e-01],\n",
    "       [  2.84100000e+03,   6.00000000e+02,   1.24000000e+00],\n",
    "       [  3.03400000e+03,   2.90000000e+02,   7.90000000e-01],\n",
    "       [  3.11500000e+03,   6.00000000e+02,   1.00000000e+00],\n",
    "       [  3.36800000e+03,   9.40000000e+02,   1.74000000e+00],\n",
    "       [  3.37900000e+03,   8.10000000e+02,   1.49000000e+00],\n",
    "       [  3.48900000e+03,   6.00000000e+02,   1.10000000e+00],\n",
    "       [  3.52100000e+03,   7.30000000e+02,   1.27000000e+00],\n",
    "       [  3.62300000e+03,   8.00000000e+02,   1.53000000e+00],\n",
    "       [  4.11100000e+03,   8.00000000e+02,   1.79000000e+00],\n",
    "       [  4.52600000e+03,   5.80000000e+02,   1.20000000e+00],\n",
    "       [  4.56500000e+03,   1.10000000e+03,   2.35000000e+00],\n",
    "       [  4.59400000e+03,   1.14000000e+03,   2.23000000e+00],\n",
    "       [  5.00500000e+03,   9.00000000e+02,   2.06000000e+00],\n",
    "       [  5.86600000e+03,   6.50000000e+02,   1.73000000e+00]])"
   ]
  },
  {
   "cell_type": "markdown",
   "metadata": {
    "deletable": true,
    "editable": true
   },
   "source": [
    "1) Plot his data (remember to make it look nice!) and fit by eye a line ($y=mx$) to overplot."
   ]
  },
  {
   "cell_type": "markdown",
   "metadata": {
    "deletable": true,
    "editable": true
   },
   "source": [
    "2) Write a function to give the chi-squared of the line for a given $m$. Recall that the chi-squared is...\n",
    "$$ \\chi^2 = \\sum_{i} (\\bar{n}_i - n_i)$$\n",
    "where $\\bar{n}_i$ is th theory prediction and $n_i$ is the data value. Here we assume all points have the same error."
   ]
  },
  {
   "cell_type": "markdown",
   "metadata": {
    "deletable": true,
    "editable": true
   },
   "source": [
    "3) Loop over values of $m$ to find the best slope. This slope is known as the Hubble constant."
   ]
  },
  {
   "cell_type": "markdown",
   "metadata": {},
   "source": [
    "4) Plot the distribution (a histogram) of the data around this best fit model. "
   ]
  },
  {
   "cell_type": "markdown",
   "metadata": {
    "collapsed": true,
    "deletable": true,
    "editable": true
   },
   "source": [
    "## Problem 3) Intro to Numerical Integration (10 Points)\n",
    "\n",
    "To preview next week's lesson, lets play around with some basic numerical integration techniques. Consider the following function;\n",
    "\n",
    "$$E(x) = \\frac{2}{\\sqrt{\\pi}}\\int_{0}^{x}e^{-t^{2}}dt.$$\n",
    "\n",
    "The integral within this function can not be done analytically; i.e. it doesn't possess a nice functional solution like integrals encountered in the standard calculus course. Instead we will have to use numerical integration techniques to solve for it."
   ]
  },
  {
   "cell_type": "markdown",
   "metadata": {
    "deletable": true,
    "editable": true
   },
   "source": [
    "1) Code up a function for $E(x)$, you may use the basic trapizoidal integration solver below. Plot the function for values between $x=1$ and $x=100$."
   ]
  },
  {
   "cell_type": "code",
   "execution_count": null,
   "metadata": {
    "collapsed": true,
    "deletable": true,
    "editable": true
   },
   "outputs": [],
   "source": [
    "def trap_int(func, a, b, N=1000):\n",
    "    \"\"\"\n",
    "    very simple trapezoidal integration solver\n",
    "    \"\"\"\n",
    "    # bin width\n",
    "    h = (b-a)/float(N)\n",
    "    \n",
    "    # get x-values\n",
    "    x_range = np.linspace(a, b, N+1)\n",
    "    \n",
    "    # get y-values\n",
    "    y_range = func(x_range)\n",
    "    \n",
    "    # evaluate trapezoidal sum\n",
    "    I = h*(0.5*y_range[0] + 0.5*y_range[-1] + sum(y_range[1:-1]))\n",
    "    \n",
    "    return I"
   ]
  },
  {
   "cell_type": "markdown",
   "metadata": {
    "deletable": true,
    "editable": true
   },
   "source": [
    "2) What is the minimum number of slices (i.e. what value of $N$) is needed for the following accuracy?\n",
    "\n",
    "$$E(0.5) = 0.52049987(7)$$\n",
    "$$E(1.0) = 0.84270079(2)$$\n",
    "$$E(1.5) =  0.96610514(6)$$"
   ]
  },
  {
   "cell_type": "markdown",
   "metadata": {
    "collapsed": true,
    "deletable": true,
    "editable": true
   },
   "source": [
    "## 4) Introduction to Numerical Simulation (15 Points)\n",
    "\n",
    "Later on in the course we will learn more about running simulations of particles. In this excersise we will code up a very simple n-body simulation meant to show the formation of structure. We will assume the particles move only under gravitational interactions.\n",
    "\n",
    "$$F_G = k m_1 m_2 /r^2$$"
   ]
  },
  {
   "cell_type": "markdown",
   "metadata": {
    "deletable": true,
    "editable": true
   },
   "source": [
    "1) At early time it is thought that particles form at random positions and velocities from an underlying field. Generate 1,000 particles at random positions with random velocities in two dimensions. Assume a box size with units between 0 and 1. Have velocities be in each direction have a Gaussian distribution with mean 0 and standard deviation 0.01. Plot the field!"
   ]
  },
  {
   "cell_type": "markdown",
   "metadata": {
    "deletable": true,
    "editable": true
   },
   "source": [
    "2) Write a function to calculate the force on each particle. Remember that force is a vector quanity."
   ]
  },
  {
   "cell_type": "markdown",
   "metadata": {
    "deletable": true,
    "editable": true
   },
   "source": [
    "3) Write a program with ten time steps where at each time step you calculate the force and displace the particles appropriately. Make both a scatterplot and 2d histogram of the resulting field."
   ]
  },
  {
   "cell_type": "code",
   "execution_count": null,
   "metadata": {
    "collapsed": true,
    "deletable": true,
    "editable": true
   },
   "outputs": [],
   "source": []
  }
 ],
 "metadata": {
  "kernelspec": {
   "display_name": "Python 3",
   "language": "python",
   "name": "python3"
  },
  "language_info": {
   "codemirror_mode": {
    "name": "ipython",
    "version": 3
   },
   "file_extension": ".py",
   "mimetype": "text/x-python",
   "name": "python",
   "nbconvert_exporter": "python",
   "pygments_lexer": "ipython3",
   "version": "3.7.2"
  }
 },
 "nbformat": 4,
 "nbformat_minor": 2
}
